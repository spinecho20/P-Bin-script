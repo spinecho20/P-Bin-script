{
 "cells": [
  {
   "cell_type": "code",
   "execution_count": 1,
   "id": "defe8f90-7b71-4e18-8711-796e851afdbb",
   "metadata": {},
   "outputs": [],
   "source": [
    "from openpyxl import load_workbook, Workbook\n",
    "import os\n",
    "from tkinter.filedialog import askopenfilename\n",
    "from numpy import mean\n",
    "from array import array  # 识别getpar中的array\n",
    "from bruker.api.topspin import Topspin\n",
    "from bruker.data.nmr import *\n",
    "from math import floor  # 精确取整\n",
    "from decimal import Decimal    #精确四舍五入\n",
    "import time\n",
    "top = Topspin()\n",
    "dp = top.getDataProvider()"
   ]
  },
  {
   "cell_type": "code",
   "execution_count": 2,
   "id": "f44393a0-94ce-44e0-af98-1e675448ab58",
   "metadata": {},
   "outputs": [],
   "source": [
    "def impxlsx():\n",
    "    \"\"\" Read xls get the file context\n",
    "    Return file context\"\"\"\n",
    "    filepaths = askopenfilename()\n",
    "    if filepaths:\n",
    "        file = filepaths\n",
    "    filepath = file.split('.')[-2]\n",
    "    wb = load_workbook(file)\n",
    "    sheet = wb.active\n",
    "    secondcolum = [cell.value for cell in list(sheet.columns)[1]]\n",
    "\n",
    "    return secondcolum, filepath"
   ]
  },
  {
   "cell_type": "code",
   "execution_count": 3,
   "id": "bf087e79-65b3-49d5-b801-71146eaae3f8",
   "metadata": {},
   "outputs": [],
   "source": [
    "class Getpar:\n",
    "    \"\"\"get peaklist start chemical shift, end chemical shift \"\"\"\n",
    "\n",
    "    def __init__(self, pathloc):\n",
    "        self.path = pathloc\n",
    "        self.proton = dp.getNMRData(pathloc)\n",
    "\n",
    "        if self.proton is None:\n",
    "            top.showError(\"There is no data in %s \" % pathloc)\n",
    "            raise Exception(\"Open a 1D data set in Topspin\")\n",
    "        # 这里需要提高没有数据时的鲁棒性\n",
    "        # print(\"processing on dataset: %s\" % pathloc)\n",
    "\n",
    "    def reprospec(self, mi=1):\n",
    "        \"\"\"set MI and lauch ppf to produce peak list \"\"\"\n",
    "        self.proton.setPar(\"MI\", mi)\n",
    "        self.proton.launch(\"ppf\")  # 该命令可替换为 ppd基于倒数的算法  ppl指定区域 ppf 全谱取峰\n",
    "\n",
    "    def getpeaks(self):\n",
    "        \"\"\"get the list\"\"\"\n",
    "        peaklist = self.proton.getPeakList()  # 获取peak pick数据集\n",
    "        if not peaklist:\n",
    "            top.showError(\"There is no peaks info in %s \" % self.path)\n",
    "            print('There is no peaks info in %s ' % self.path)\n",
    "        peakchemicalsfits = []  # 新建空峰位置列表\n",
    "        for peak in peaklist:  # 信号峰位置\n",
    "            peakchemicalsfits.extend(peak['position'])\n",
    "        return array.array('d', peakchemicalsfits)\n",
    "\n",
    "    def getpar(self):\n",
    "        \"\"\"get start range, end range, point number(SI),location of peak, intensity of points\"\"\"\n",
    "        specdata = self.proton.getSpecDataPoints()\n",
    "\n",
    "        requiredpar = {\n",
    "            'srange': specdata['physicalRanges'][0]['start'],  # 获取谱图左边界\n",
    "            'erange': specdata['physicalRanges'][0]['end'],  # 获取谱图右边界\n",
    "            'pointnum': specdata['indexRanges'][0]['numberOfPoints'],  # 获取谱图点数（处理点数）numberOfPoints   of 0f 这里布鲁克原函数有错\n",
    "            'peakpositions': self.getpeaks(),  # peak用array运算速度比列表快，\n",
    "            'datapoints': specdata['dataPoints']  # 获取谱图数据点 数据类型为array使用类似list\n",
    "        }  # 返回值考虑用键值对更稳定\n",
    "        print(\"getting pars on dataset: %s\" % self.path)\n",
    "        return requiredpar\n"
   ]
  },
  {
   "cell_type": "code",
   "execution_count": 4,
   "id": "b4c52e06-4efa-4776-a139-f824131c4de4",
   "metadata": {},
   "outputs": [],
   "source": [
    "def sifer(paths, window=0.0025,peaknum=3):\n",
    "    allpeaks = [Getpar(path).getpeaks() for path in paths]\n",
    "    stdlist = [[-999]]\n",
    "    for i in range(len(allpeaks)):\n",
    "        for peak in allpeaks[i]:\n",
    "            for j in range(len(stdlist)):\n",
    "                if mean(stdlist[j]) - window <= peak <= mean(stdlist[j]) + window:\n",
    "                    stdlist[j].append(peak)\n",
    "                    break\n",
    "                else:\n",
    "                    if j == len(stdlist) - 1:\n",
    "                        stdlist.append([peak])\n",
    "    del stdlist[0]\n",
    "\n",
    "    for peaklist in stdlist:\n",
    "        if len(peaklist) <= peaknum:\n",
    "            stdlist.remove(peaklist)\n",
    "    resultlist = [mean(stdlist[k]) for k in range(len(stdlist))]\n",
    "    resultlist.sort(reverse=True)\n",
    "    print('finished peak collection')\n",
    "    return resultlist"
   ]
  },
  {
   "cell_type": "code",
   "execution_count": 5,
   "id": "ad87403e-cef5-42f8-b4a2-9f1e24122c33",
   "metadata": {},
   "outputs": [],
   "source": [
    "def peakin(centre, peaklist, window=0.0025):\n",
    "    \"\"\" To find is any peak in list located in give window \"\"\"\n",
    "    for i in range(len(peaklist)):\n",
    "        if (centre - window) <= peaklist[i] <= (centre + window):\n",
    "            return peaklist[i]\n",
    "            break\n",
    "        elif i == len(peaklist) - 1:\n",
    "            return None"
   ]
  },
  {
   "cell_type": "code",
   "execution_count": 6,
   "id": "bd6d6efa-6b8f-45d7-9072-0dcb8c53253a",
   "metadata": {},
   "outputs": [],
   "source": [
    "def findhighpoint(peak, par):\n",
    "    \"\"\"find the highest intensity of servral point near paek\"\"\"\n",
    "    s_range = par['srange']\n",
    "    e_range = par['erange']\n",
    "    point_num = par['pointnum']\n",
    "    data_points = par['datapoints']\n",
    "\n",
    "    left_point = floor((s_range - peak) / (s_range - e_range) * point_num)  # floor向下取整，峰\n",
    "    max_value = max(data_points[left_point], data_points[left_point - 1], data_points[left_point + 1],\n",
    "                    data_points[left_point + 2])  # 从left point附近四个点取最大值\n",
    "    high_point = data_points.index(max_value)  # 通过最大值逆向索引点的位置\n",
    "    return high_point\n"
   ]
  },
  {
   "cell_type": "code",
   "execution_count": 7,
   "id": "c1d56f66-94ba-42e7-913d-aa44fce3ee07",
   "metadata": {},
   "outputs": [],
   "source": [
    "def calhighpoint(peak, par):\n",
    "    \"\"\"find the closest point near paek\"\"\"\n",
    "    s_range = str(par['srange'])\n",
    "    e_range = str(par['erange'])\n",
    "    point_num = str(par['pointnum'])\n",
    "\n",
    "    # left_point = floor((s_range - peak) / (s_range - e_range) * point_num)  # floor向下取整，峰\n",
    "    close_point = Decimal((Decimal(s_range) - Decimal(peak)) / (Decimal(s_range) - Decimal(e_range)) * Decimal(point_num)).quantize(Decimal('0'))\n",
    "    #20220927修改为十进制精确四舍五入\n",
    "    return int(close_point)"
   ]
  },
  {
   "cell_type": "code",
   "execution_count": 8,
   "id": "edfb3ed7-88a1-4a31-9a5f-5e71c23c75c7",
   "metadata": {},
   "outputs": [],
   "source": [
    "def pointint(pos, data, sumpoint=11):\n",
    "    sumint = 0\n",
    "    startloc = int(pos - (sumpoint - 1) / 2)\n",
    "\n",
    "    for calt in range(sumpoint):\n",
    "        sumint += data[startloc + calt]\n",
    "    return sumint"
   ]
  },
  {
   "cell_type": "code",
   "execution_count": 9,
   "id": "dceffd36-0ea0-4ec1-b99a-b766e783ff05",
   "metadata": {},
   "outputs": [],
   "source": [
    "def exp2xlsx(exlname, colnum, colinput):\n",
    "    if os.path.exists(exlname):\n",
    "        wb = load_workbook(exlname)\n",
    "    else:\n",
    "        wb = Workbook()  # workbook = openpyxl.Workbook(encoding='UTF-8')\n",
    "    worksheet = wb.active\n",
    "    for i in range(len(colinput)):\n",
    "        worksheet.cell(row=i + 1, column=colnum).value = colinput[i]  # 写入列\n",
    "    wb.save(filename=exlname)\n"
   ]
  },
  {
   "cell_type": "markdown",
   "id": "56234aea-eb12-4775-90e4-8e9c52deaee9",
   "metadata": {},
   "source": [
    "# 主程序开始位置"
   ]
  },
  {
   "cell_type": "code",
   "execution_count": 10,
   "id": "2edc58c6-2212-45c4-a290-8106badcaaee",
   "metadata": {},
   "outputs": [
    {
     "name": "stdout",
     "output_type": "stream",
     "text": [
      "finished peak collection\n",
      "getting pars on dataset: C:/Bruker/Topspin4.2.0/examdata/exam_DNMR_Me2NCOMe/10/pdata/1\n",
      "getting pars on dataset: C:/Bruker/Topspin4.2.0/examdata/exam_DNMR_Me2NCOMe/11/pdata/1\n",
      "getting pars on dataset: C:/Bruker/Topspin4.2.0/examdata/exam_DNMR_Me2NCOMe/12/pdata/1\n",
      "getting pars on dataset: C:/Bruker/Topspin4.2.0/examdata/exam_DNMR_Me2NCOMe/13/pdata/1\n",
      "getting pars on dataset: C:/Bruker/Topspin4.2.0/examdata/exam_DNMR_Me2NCOMe/14/pdata/1\n",
      "getting pars on dataset: C:/Bruker/Topspin4.2.0/examdata/exam_DNMR_Me2NCOMe/15/pdata/1\n",
      "getting pars on dataset: C:/Bruker/Topspin4.2.0/examdata/exam_DNMR_Me2NCOMe/16/pdata/1\n",
      "getting pars on dataset: C:/Bruker/Topspin4.2.0/examdata/exam_DNMR_Me2NCOMe/17/pdata/1\n",
      "getting pars on dataset: C:/Bruker/Topspin4.2.0/examdata/exam_DNMR_Me2NCOMe/18/pdata/1\n",
      "getting pars on dataset: C:/Bruker/Topspin4.2.0/examdata/exam_DNMR_Me2NCOMe/19/pdata/1\n",
      "getting pars on dataset: C:/Bruker/Topspin4.2.0/examdata/exam_DNMR_Me2NCOMe/20/pdata/1\n",
      "data set processing finished \n",
      "time cost 4.629732131958008 s\n"
     ]
    }
   ],
   "source": [
    "context, filepath = impxlsx()  # import pathfile and filepath .xlsx\n",
    "time_start=time.time()\n",
    "paths = list(filter(None, context[3:]))  # get the paths of nmr data\n",
    "pointnum = context[0]\n",
    "win = context[1]\n",
    "droppeaks = context[2]\n",
    "sifers = sifer(paths, window=win, peaknum=droppeaks)  # ger the mean value of peaks in different spectrum\n",
    "\n",
    "exlname = filepath + '_P-Bin.xlsx'\n",
    "exp2xlsx(exlname, 1, ['ppm'] + sifers)  # 写入第一列\n",
    "\n",
    "for path in paths:\n",
    "    curpar = Getpar(path).getpar()\n",
    "    coltitle = path.rstrip().split('/')[-3]  # 每列名称为为expriment number实验序号\n",
    "    intresults = [coltitle]\n",
    "    for sifer in sifers:\n",
    "        resultpeak = peakin(sifer, curpar['peakpositions'], window=win)  # 判断当前sifer范围内有无选中的peak\n",
    "        if resultpeak:\n",
    "            highpoint = findhighpoint(resultpeak, curpar)\n",
    "            integral = pointint(highpoint, curpar['datapoints'], sumpoint=pointnum)\n",
    "        else:\n",
    "            highpoint = calhighpoint(sifer, curpar)\n",
    "            integral = pointint(highpoint, curpar['datapoints'], sumpoint=pointnum)\n",
    "        intresults.append(integral)\n",
    "    pass\n",
    "    columnnum = paths.index(path) + 2  # 第一列为peak ppm path索引从0开始\n",
    "    exp2xlsx(exlname, columnnum, intresults)  # 写入列\n",
    "pass\n",
    "print('data set processing finished ')\n",
    "time_end=time.time()\n",
    "print('time cost',time_end-time_start,'s')"
   ]
  }
 ],
 "metadata": {
  "kernelspec": {
   "display_name": "Python 3 (ipykernel)",
   "language": "python",
   "name": "python3"
  },
  "language_info": {
   "codemirror_mode": {
    "name": "ipython",
    "version": 3
   },
   "file_extension": ".py",
   "mimetype": "text/x-python",
   "name": "python",
   "nbconvert_exporter": "python",
   "pygments_lexer": "ipython3",
   "version": "3.10.6"
  }
 },
 "nbformat": 4,
 "nbformat_minor": 5
}
